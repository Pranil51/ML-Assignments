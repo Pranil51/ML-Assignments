{
 "cells": [
  {
   "cell_type": "code",
   "execution_count": 89,
   "metadata": {},
   "outputs": [],
   "source": [
    "import pandas as pd\n",
    "import numpy as np\n",
    "import seaborn as sns\n",
    "import matplotlib.pyplot as plt\n",
    "from sklearn.model_selection import train_test_split\n",
    "from sklearn.preprocessing import StandardScaler,LabelEncoder,OneHotEncoder\n",
    "from sklearn.linear_model import LinearRegression\n",
    "from sklearn.compose import ColumnTransformer\n",
    "from sklearn.pipeline import Pipeline\n",
    "from sklearn.metrics import mean_squared_error,r2_score\n",
    "from sklearn.feature_selection import VarianceThreshold\n",
    "import re\n",
    "from sklearn.linear_model import Ridge\n"
   ]
  },
  {
   "cell_type": "code",
   "execution_count": 65,
   "metadata": {},
   "outputs": [
    {
     "data": {
      "text/html": [
       "<div>\n",
       "<style scoped>\n",
       "    .dataframe tbody tr th:only-of-type {\n",
       "        vertical-align: middle;\n",
       "    }\n",
       "\n",
       "    .dataframe tbody tr th {\n",
       "        vertical-align: top;\n",
       "    }\n",
       "\n",
       "    .dataframe thead th {\n",
       "        text-align: right;\n",
       "    }\n",
       "</style>\n",
       "<table border=\"1\" class=\"dataframe\">\n",
       "  <thead>\n",
       "    <tr style=\"text-align: right;\">\n",
       "      <th></th>\n",
       "      <th>mobile_name</th>\n",
       "      <th>mobile_price</th>\n",
       "      <th>mobile_color</th>\n",
       "      <th>dual_sim</th>\n",
       "      <th>disp_size</th>\n",
       "      <th>resolution</th>\n",
       "      <th>os</th>\n",
       "      <th>num_cores</th>\n",
       "      <th>mp_speed</th>\n",
       "      <th>int_memory</th>\n",
       "      <th>ram</th>\n",
       "      <th>p_cam</th>\n",
       "      <th>f_cam</th>\n",
       "      <th>network</th>\n",
       "      <th>bluetooth</th>\n",
       "      <th>battery_power</th>\n",
       "      <th>mob_width</th>\n",
       "      <th>mob_height</th>\n",
       "      <th>mob_depth</th>\n",
       "      <th>mob_weight</th>\n",
       "    </tr>\n",
       "  </thead>\n",
       "  <tbody>\n",
       "    <tr>\n",
       "      <th>0</th>\n",
       "      <td>Realme Narzo 10A (So White, 32 GB)</td>\n",
       "      <td>₹8,999</td>\n",
       "      <td>So White</td>\n",
       "      <td>Dual Sim</td>\n",
       "      <td>16.56 cm (6.52 inch)</td>\n",
       "      <td>1600 x 720 Pixels</td>\n",
       "      <td>Android 10</td>\n",
       "      <td>Octa Core</td>\n",
       "      <td>2 GHz</td>\n",
       "      <td>32 GB</td>\n",
       "      <td>3 GB</td>\n",
       "      <td>12MP + 2MP + 2MP</td>\n",
       "      <td>5MP Front Camera</td>\n",
       "      <td>4G VOLTE, 4G, 3G, 2G</td>\n",
       "      <td>Yes</td>\n",
       "      <td>5000 mAh</td>\n",
       "      <td>75 mm</td>\n",
       "      <td>164.4 mm</td>\n",
       "      <td>8.95 mm</td>\n",
       "      <td>195 g</td>\n",
       "    </tr>\n",
       "    <tr>\n",
       "      <th>1</th>\n",
       "      <td>Realme Narzo 10A (So Blue, 32 GB)</td>\n",
       "      <td>₹8,999</td>\n",
       "      <td>So Blue</td>\n",
       "      <td>Dual Sim</td>\n",
       "      <td>16.56 cm (6.52 inch)</td>\n",
       "      <td>1600 x 720 Pixels</td>\n",
       "      <td>Android 10</td>\n",
       "      <td>Octa Core</td>\n",
       "      <td>2 GHz</td>\n",
       "      <td>32 GB</td>\n",
       "      <td>3 GB</td>\n",
       "      <td>12MP + 2MP + 2MP</td>\n",
       "      <td>5MP Front Camera</td>\n",
       "      <td>4G VOLTE, 4G, 3G, 2G</td>\n",
       "      <td>Yes</td>\n",
       "      <td>5000 mAh</td>\n",
       "      <td>75 mm</td>\n",
       "      <td>164.4 mm</td>\n",
       "      <td>8.95 mm</td>\n",
       "      <td>195 g</td>\n",
       "    </tr>\n",
       "    <tr>\n",
       "      <th>2</th>\n",
       "      <td>Realme Narzo 10A (So Blue, 64 GB)</td>\n",
       "      <td>₹9,999</td>\n",
       "      <td>So Blue</td>\n",
       "      <td>Dual Sim</td>\n",
       "      <td>16.56 cm (6.52 inch)</td>\n",
       "      <td>1600 x 720 Pixels</td>\n",
       "      <td>Android 10</td>\n",
       "      <td>Octa Core</td>\n",
       "      <td>2 GHz</td>\n",
       "      <td>64 GB</td>\n",
       "      <td>4 GB</td>\n",
       "      <td>12MP + 2MP + 2MP</td>\n",
       "      <td>5MP Front Camera</td>\n",
       "      <td>4G VOLTE, 4G, 3G, 2G</td>\n",
       "      <td>Yes</td>\n",
       "      <td>5000 mAh</td>\n",
       "      <td>75 mm</td>\n",
       "      <td>164.4 mm</td>\n",
       "      <td>8.95 mm</td>\n",
       "      <td>195 g</td>\n",
       "    </tr>\n",
       "    <tr>\n",
       "      <th>3</th>\n",
       "      <td>Realme Narzo 10A (So White, 64 GB)</td>\n",
       "      <td>₹9,999</td>\n",
       "      <td>So White</td>\n",
       "      <td>Dual Sim</td>\n",
       "      <td>16.56 cm (6.52 inch)</td>\n",
       "      <td>1600 x 720 Pixels</td>\n",
       "      <td>Android 10</td>\n",
       "      <td>Octa Core</td>\n",
       "      <td>2 GHz</td>\n",
       "      <td>64 GB</td>\n",
       "      <td>4 GB</td>\n",
       "      <td>12MP + 2MP + 2MP</td>\n",
       "      <td>5MP Front Camera</td>\n",
       "      <td>4G VOLTE, 4G, 3G, 2G</td>\n",
       "      <td>Yes</td>\n",
       "      <td>5000 mAh</td>\n",
       "      <td>75 mm</td>\n",
       "      <td>164.4 mm</td>\n",
       "      <td>8.95 mm</td>\n",
       "      <td>195 g</td>\n",
       "    </tr>\n",
       "    <tr>\n",
       "      <th>4</th>\n",
       "      <td>Realme Narzo 10 (That Green, 128 GB)</td>\n",
       "      <td>₹11,999</td>\n",
       "      <td>That Green</td>\n",
       "      <td>Dual Sim</td>\n",
       "      <td>16.51 cm (6.5 inch)</td>\n",
       "      <td>1600 x 720 Pixels</td>\n",
       "      <td>Android 10</td>\n",
       "      <td>Octa Core</td>\n",
       "      <td>2 GHz</td>\n",
       "      <td>128 GB</td>\n",
       "      <td>4 GB</td>\n",
       "      <td>48MP + 8MP + 2MP + 2MP</td>\n",
       "      <td>16MP Front Camera</td>\n",
       "      <td>4G VOLTE, 4G, 3G, 2G</td>\n",
       "      <td>Yes</td>\n",
       "      <td>5000 mAh</td>\n",
       "      <td>75.4 mm</td>\n",
       "      <td>164.4 mm</td>\n",
       "      <td>9 mm</td>\n",
       "      <td>199 g</td>\n",
       "    </tr>\n",
       "  </tbody>\n",
       "</table>\n",
       "</div>"
      ],
      "text/plain": [
       "                            mobile_name mobile_price mobile_color  dual_sim  \\\n",
       "0    Realme Narzo 10A (So White, 32 GB)       ₹8,999     So White  Dual Sim   \n",
       "1     Realme Narzo 10A (So Blue, 32 GB)       ₹8,999      So Blue  Dual Sim   \n",
       "2     Realme Narzo 10A (So Blue, 64 GB)       ₹9,999      So Blue  Dual Sim   \n",
       "3    Realme Narzo 10A (So White, 64 GB)       ₹9,999     So White  Dual Sim   \n",
       "4  Realme Narzo 10 (That Green, 128 GB)      ₹11,999   That Green  Dual Sim   \n",
       "\n",
       "              disp_size         resolution          os  num_cores mp_speed  \\\n",
       "0  16.56 cm (6.52 inch)  1600 x 720 Pixels  Android 10  Octa Core    2 GHz   \n",
       "1  16.56 cm (6.52 inch)  1600 x 720 Pixels  Android 10  Octa Core    2 GHz   \n",
       "2  16.56 cm (6.52 inch)  1600 x 720 Pixels  Android 10  Octa Core    2 GHz   \n",
       "3  16.56 cm (6.52 inch)  1600 x 720 Pixels  Android 10  Octa Core    2 GHz   \n",
       "4   16.51 cm (6.5 inch)  1600 x 720 Pixels  Android 10  Octa Core    2 GHz   \n",
       "\n",
       "  int_memory   ram                   p_cam              f_cam  \\\n",
       "0      32 GB  3 GB        12MP + 2MP + 2MP   5MP Front Camera   \n",
       "1      32 GB  3 GB        12MP + 2MP + 2MP   5MP Front Camera   \n",
       "2      64 GB  4 GB        12MP + 2MP + 2MP   5MP Front Camera   \n",
       "3      64 GB  4 GB        12MP + 2MP + 2MP   5MP Front Camera   \n",
       "4     128 GB  4 GB  48MP + 8MP + 2MP + 2MP  16MP Front Camera   \n",
       "\n",
       "                network bluetooth battery_power mob_width mob_height  \\\n",
       "0  4G VOLTE, 4G, 3G, 2G       Yes      5000 mAh     75 mm   164.4 mm   \n",
       "1  4G VOLTE, 4G, 3G, 2G       Yes      5000 mAh     75 mm   164.4 mm   \n",
       "2  4G VOLTE, 4G, 3G, 2G       Yes      5000 mAh     75 mm   164.4 mm   \n",
       "3  4G VOLTE, 4G, 3G, 2G       Yes      5000 mAh     75 mm   164.4 mm   \n",
       "4  4G VOLTE, 4G, 3G, 2G       Yes      5000 mAh   75.4 mm   164.4 mm   \n",
       "\n",
       "  mob_depth mob_weight  \n",
       "0   8.95 mm      195 g  \n",
       "1   8.95 mm      195 g  \n",
       "2   8.95 mm      195 g  \n",
       "3   8.95 mm      195 g  \n",
       "4      9 mm      199 g  "
      ]
     },
     "execution_count": 65,
     "metadata": {},
     "output_type": "execute_result"
    }
   ],
   "source": [
    "df=pd.read_csv('mobile_price_data.csv')\n",
    "df.head()"
   ]
  },
  {
   "cell_type": "code",
   "execution_count": 54,
   "metadata": {},
   "outputs": [
    {
     "data": {
      "text/plain": [
       "0      16.56\n",
       "1      16.56\n",
       "2      16.56\n",
       "3      16.56\n",
       "4      16.51\n",
       "       ...  \n",
       "454    14.48\n",
       "455    14.48\n",
       "456    15.82\n",
       "457    16.59\n",
       "458    16.59\n",
       "Name: disp_size, Length: 459, dtype: float64"
      ]
     },
     "execution_count": 54,
     "metadata": {},
     "output_type": "execute_result"
    }
   ],
   "source": [
    "\n",
    "a=df['disp_size'].str.slice(0,5).astype(dtype='float')\n",
    "a\n"
   ]
  },
  {
   "cell_type": "code",
   "execution_count": 64,
   "metadata": {},
   "outputs": [
    {
     "data": {
      "text/plain": [
       "array([dtype('float64')], dtype=object)"
      ]
     },
     "execution_count": 64,
     "metadata": {},
     "output_type": "execute_result"
    }
   ],
   "source": [
    "df['ram'].unique()"
   ]
  },
  {
   "cell_type": "code",
   "execution_count": 3,
   "metadata": {},
   "outputs": [
    {
     "data": {
      "text/plain": [
       "(459, 20)"
      ]
     },
     "execution_count": 3,
     "metadata": {},
     "output_type": "execute_result"
    }
   ],
   "source": [
    "df.shape"
   ]
  },
  {
   "cell_type": "code",
   "execution_count": 6,
   "metadata": {},
   "outputs": [
    {
     "data": {
      "text/plain": [
       "mobile_name      0\n",
       "mobile_price     0\n",
       "mobile_color     0\n",
       "dual_sim         0\n",
       "disp_size        0\n",
       "resolution       0\n",
       "os               0\n",
       "num_cores        0\n",
       "mp_speed         0\n",
       "int_memory       0\n",
       "ram              0\n",
       "p_cam            0\n",
       "f_cam            0\n",
       "network          0\n",
       "bluetooth        0\n",
       "battery_power    0\n",
       "mob_width        0\n",
       "mob_height       0\n",
       "mob_depth        0\n",
       "mob_weight       0\n",
       "dtype: int64"
      ]
     },
     "execution_count": 6,
     "metadata": {},
     "output_type": "execute_result"
    }
   ],
   "source": [
    "df.isnull().sum()"
   ]
  },
  {
   "cell_type": "code",
   "execution_count": 7,
   "metadata": {},
   "outputs": [
    {
     "data": {
      "text/plain": [
       "(459, 20)"
      ]
     },
     "execution_count": 7,
     "metadata": {},
     "output_type": "execute_result"
    }
   ],
   "source": [
    "df.drop_duplicates()\n",
    "df.shape"
   ]
  },
  {
   "cell_type": "code",
   "execution_count": 4,
   "metadata": {},
   "outputs": [
    {
     "data": {
      "text/plain": [
       "mobile_name      object\n",
       "mobile_price     object\n",
       "mobile_color     object\n",
       "dual_sim         object\n",
       "disp_size        object\n",
       "resolution       object\n",
       "os               object\n",
       "num_cores        object\n",
       "mp_speed         object\n",
       "int_memory       object\n",
       "ram              object\n",
       "p_cam            object\n",
       "f_cam            object\n",
       "network          object\n",
       "bluetooth        object\n",
       "battery_power    object\n",
       "mob_width        object\n",
       "mob_height       object\n",
       "mob_depth        object\n",
       "mob_weight       object\n",
       "dtype: object"
      ]
     },
     "execution_count": 4,
     "metadata": {},
     "output_type": "execute_result"
    }
   ],
   "source": [
    "df.dtypes"
   ]
  },
  {
   "cell_type": "code",
   "execution_count": 66,
   "metadata": {},
   "outputs": [
    {
     "data": {
      "text/plain": [
       "mobile_name       object\n",
       "mobile_price     float64\n",
       "mobile_color      object\n",
       "dual_sim          object\n",
       "disp_size        float64\n",
       "resolution        object\n",
       "os                object\n",
       "num_cores         object\n",
       "mp_speed         float64\n",
       "int_memory       float64\n",
       "ram              float64\n",
       "p_cam             object\n",
       "f_cam             object\n",
       "network           object\n",
       "bluetooth         object\n",
       "battery_power    float64\n",
       "mob_width        float64\n",
       "mob_height       float64\n",
       "mob_depth        float64\n",
       "mob_weight       float64\n",
       "dtype: object"
      ]
     },
     "execution_count": 66,
     "metadata": {},
     "output_type": "execute_result"
    }
   ],
   "source": [
    "#stripping off units\n",
    "df['disp_size']=df['disp_size'].str.slice(0,5).astype(dtype='float')\n",
    "df['mob_width']=df['mob_width'].str.replace(' mm','',case=False).astype(dtype='float')\n",
    "df['mobile_price']=df['mobile_price'].str.replace('₹','')\n",
    "df['mobile_price']=df['mobile_price'].str.replace(',','').astype(dtype='float')\n",
    "df['mp_speed']=df['mp_speed'].str.replace(' GHz','',case=False).astype(dtype='float')\n",
    "df['int_memory']=df['int_memory'].str.replace(' GB','',case=False).astype(dtype='float')\n",
    "df['ram']=df['ram'].str.replace(' GB','',case=False).astype(dtype='float')\n",
    "df['battery_power']=df['battery_power'].str.replace(' mAh','',case=False).astype(dtype='float')\n",
    "df['mob_height']=df['mob_height'].str.replace(' mm','',case=False).astype(dtype='float')\n",
    "df['mob_depth']=df['mob_depth'].str.replace(' mm','',case=False).astype(dtype='float')\n",
    "df['mob_weight']=df['mob_weight'].str.replace(' g','',case=False).astype(dtype='float')\n",
    "df.dtypes"
   ]
  },
  {
   "cell_type": "code",
   "execution_count": 67,
   "metadata": {},
   "outputs": [
    {
     "data": {
      "text/html": [
       "<div>\n",
       "<style scoped>\n",
       "    .dataframe tbody tr th:only-of-type {\n",
       "        vertical-align: middle;\n",
       "    }\n",
       "\n",
       "    .dataframe tbody tr th {\n",
       "        vertical-align: top;\n",
       "    }\n",
       "\n",
       "    .dataframe thead th {\n",
       "        text-align: right;\n",
       "    }\n",
       "</style>\n",
       "<table border=\"1\" class=\"dataframe\">\n",
       "  <thead>\n",
       "    <tr style=\"text-align: right;\">\n",
       "      <th></th>\n",
       "      <th>mobile_name</th>\n",
       "      <th>mobile_price</th>\n",
       "      <th>mobile_color</th>\n",
       "      <th>dual_sim</th>\n",
       "      <th>disp_size</th>\n",
       "      <th>resolution</th>\n",
       "      <th>os</th>\n",
       "      <th>num_cores</th>\n",
       "      <th>mp_speed</th>\n",
       "      <th>int_memory</th>\n",
       "      <th>ram</th>\n",
       "      <th>p_cam</th>\n",
       "      <th>f_cam</th>\n",
       "      <th>network</th>\n",
       "      <th>bluetooth</th>\n",
       "      <th>battery_power</th>\n",
       "      <th>mob_width</th>\n",
       "      <th>mob_height</th>\n",
       "      <th>mob_depth</th>\n",
       "      <th>mob_weight</th>\n",
       "    </tr>\n",
       "  </thead>\n",
       "  <tbody>\n",
       "    <tr>\n",
       "      <th>0</th>\n",
       "      <td>Realme Narzo 10A (So White, 32 GB)</td>\n",
       "      <td>8999.0</td>\n",
       "      <td>So White</td>\n",
       "      <td>Dual Sim</td>\n",
       "      <td>16.56</td>\n",
       "      <td>1600 x 720 Pixels</td>\n",
       "      <td>Android 10</td>\n",
       "      <td>Octa Core</td>\n",
       "      <td>2.0</td>\n",
       "      <td>32.0</td>\n",
       "      <td>3.0</td>\n",
       "      <td>12MP + 2MP + 2MP</td>\n",
       "      <td>5MP Front Camera</td>\n",
       "      <td>4G VOLTE, 4G, 3G, 2G</td>\n",
       "      <td>Yes</td>\n",
       "      <td>5000.0</td>\n",
       "      <td>75.0</td>\n",
       "      <td>164.4</td>\n",
       "      <td>8.95</td>\n",
       "      <td>195.0</td>\n",
       "    </tr>\n",
       "    <tr>\n",
       "      <th>1</th>\n",
       "      <td>Realme Narzo 10A (So Blue, 32 GB)</td>\n",
       "      <td>8999.0</td>\n",
       "      <td>So Blue</td>\n",
       "      <td>Dual Sim</td>\n",
       "      <td>16.56</td>\n",
       "      <td>1600 x 720 Pixels</td>\n",
       "      <td>Android 10</td>\n",
       "      <td>Octa Core</td>\n",
       "      <td>2.0</td>\n",
       "      <td>32.0</td>\n",
       "      <td>3.0</td>\n",
       "      <td>12MP + 2MP + 2MP</td>\n",
       "      <td>5MP Front Camera</td>\n",
       "      <td>4G VOLTE, 4G, 3G, 2G</td>\n",
       "      <td>Yes</td>\n",
       "      <td>5000.0</td>\n",
       "      <td>75.0</td>\n",
       "      <td>164.4</td>\n",
       "      <td>8.95</td>\n",
       "      <td>195.0</td>\n",
       "    </tr>\n",
       "    <tr>\n",
       "      <th>2</th>\n",
       "      <td>Realme Narzo 10A (So Blue, 64 GB)</td>\n",
       "      <td>9999.0</td>\n",
       "      <td>So Blue</td>\n",
       "      <td>Dual Sim</td>\n",
       "      <td>16.56</td>\n",
       "      <td>1600 x 720 Pixels</td>\n",
       "      <td>Android 10</td>\n",
       "      <td>Octa Core</td>\n",
       "      <td>2.0</td>\n",
       "      <td>64.0</td>\n",
       "      <td>4.0</td>\n",
       "      <td>12MP + 2MP + 2MP</td>\n",
       "      <td>5MP Front Camera</td>\n",
       "      <td>4G VOLTE, 4G, 3G, 2G</td>\n",
       "      <td>Yes</td>\n",
       "      <td>5000.0</td>\n",
       "      <td>75.0</td>\n",
       "      <td>164.4</td>\n",
       "      <td>8.95</td>\n",
       "      <td>195.0</td>\n",
       "    </tr>\n",
       "    <tr>\n",
       "      <th>3</th>\n",
       "      <td>Realme Narzo 10A (So White, 64 GB)</td>\n",
       "      <td>9999.0</td>\n",
       "      <td>So White</td>\n",
       "      <td>Dual Sim</td>\n",
       "      <td>16.56</td>\n",
       "      <td>1600 x 720 Pixels</td>\n",
       "      <td>Android 10</td>\n",
       "      <td>Octa Core</td>\n",
       "      <td>2.0</td>\n",
       "      <td>64.0</td>\n",
       "      <td>4.0</td>\n",
       "      <td>12MP + 2MP + 2MP</td>\n",
       "      <td>5MP Front Camera</td>\n",
       "      <td>4G VOLTE, 4G, 3G, 2G</td>\n",
       "      <td>Yes</td>\n",
       "      <td>5000.0</td>\n",
       "      <td>75.0</td>\n",
       "      <td>164.4</td>\n",
       "      <td>8.95</td>\n",
       "      <td>195.0</td>\n",
       "    </tr>\n",
       "    <tr>\n",
       "      <th>4</th>\n",
       "      <td>Realme Narzo 10 (That Green, 128 GB)</td>\n",
       "      <td>11999.0</td>\n",
       "      <td>That Green</td>\n",
       "      <td>Dual Sim</td>\n",
       "      <td>16.51</td>\n",
       "      <td>1600 x 720 Pixels</td>\n",
       "      <td>Android 10</td>\n",
       "      <td>Octa Core</td>\n",
       "      <td>2.0</td>\n",
       "      <td>128.0</td>\n",
       "      <td>4.0</td>\n",
       "      <td>48MP + 8MP + 2MP + 2MP</td>\n",
       "      <td>16MP Front Camera</td>\n",
       "      <td>4G VOLTE, 4G, 3G, 2G</td>\n",
       "      <td>Yes</td>\n",
       "      <td>5000.0</td>\n",
       "      <td>75.4</td>\n",
       "      <td>164.4</td>\n",
       "      <td>9.00</td>\n",
       "      <td>199.0</td>\n",
       "    </tr>\n",
       "  </tbody>\n",
       "</table>\n",
       "</div>"
      ],
      "text/plain": [
       "                            mobile_name  mobile_price mobile_color  dual_sim  \\\n",
       "0    Realme Narzo 10A (So White, 32 GB)        8999.0     So White  Dual Sim   \n",
       "1     Realme Narzo 10A (So Blue, 32 GB)        8999.0      So Blue  Dual Sim   \n",
       "2     Realme Narzo 10A (So Blue, 64 GB)        9999.0      So Blue  Dual Sim   \n",
       "3    Realme Narzo 10A (So White, 64 GB)        9999.0     So White  Dual Sim   \n",
       "4  Realme Narzo 10 (That Green, 128 GB)       11999.0   That Green  Dual Sim   \n",
       "\n",
       "   disp_size         resolution          os  num_cores  mp_speed  int_memory  \\\n",
       "0      16.56  1600 x 720 Pixels  Android 10  Octa Core       2.0        32.0   \n",
       "1      16.56  1600 x 720 Pixels  Android 10  Octa Core       2.0        32.0   \n",
       "2      16.56  1600 x 720 Pixels  Android 10  Octa Core       2.0        64.0   \n",
       "3      16.56  1600 x 720 Pixels  Android 10  Octa Core       2.0        64.0   \n",
       "4      16.51  1600 x 720 Pixels  Android 10  Octa Core       2.0       128.0   \n",
       "\n",
       "   ram                   p_cam              f_cam               network  \\\n",
       "0  3.0        12MP + 2MP + 2MP   5MP Front Camera  4G VOLTE, 4G, 3G, 2G   \n",
       "1  3.0        12MP + 2MP + 2MP   5MP Front Camera  4G VOLTE, 4G, 3G, 2G   \n",
       "2  4.0        12MP + 2MP + 2MP   5MP Front Camera  4G VOLTE, 4G, 3G, 2G   \n",
       "3  4.0        12MP + 2MP + 2MP   5MP Front Camera  4G VOLTE, 4G, 3G, 2G   \n",
       "4  4.0  48MP + 8MP + 2MP + 2MP  16MP Front Camera  4G VOLTE, 4G, 3G, 2G   \n",
       "\n",
       "  bluetooth  battery_power  mob_width  mob_height  mob_depth  mob_weight  \n",
       "0       Yes         5000.0       75.0       164.4       8.95       195.0  \n",
       "1       Yes         5000.0       75.0       164.4       8.95       195.0  \n",
       "2       Yes         5000.0       75.0       164.4       8.95       195.0  \n",
       "3       Yes         5000.0       75.0       164.4       8.95       195.0  \n",
       "4       Yes         5000.0       75.4       164.4       9.00       199.0  "
      ]
     },
     "execution_count": 67,
     "metadata": {},
     "output_type": "execute_result"
    }
   ],
   "source": [
    "df.head()"
   ]
  },
  {
   "cell_type": "code",
   "execution_count": 79,
   "metadata": {},
   "outputs": [
    {
     "data": {
      "text/plain": [
       "mobile_name       object\n",
       "mobile_color      object\n",
       "dual_sim          object\n",
       "disp_size        float64\n",
       "resolution        object\n",
       "os                object\n",
       "num_cores         object\n",
       "mp_speed         float64\n",
       "int_memory       float64\n",
       "ram              float64\n",
       "p_cam             object\n",
       "f_cam             object\n",
       "network           object\n",
       "bluetooth         object\n",
       "battery_power    float64\n",
       "mob_width        float64\n",
       "mob_height       float64\n",
       "mob_depth        float64\n",
       "mob_weight       float64\n",
       "dtype: object"
      ]
     },
     "execution_count": 79,
     "metadata": {},
     "output_type": "execute_result"
    }
   ],
   "source": [
    "x=df.drop('mobile_price',axis=1)\n",
    "y=df['mobile_price']\n",
    "x.dtypes\n"
   ]
  },
  {
   "cell_type": "code",
   "execution_count": 80,
   "metadata": {},
   "outputs": [],
   "source": [
    "trf1=ColumnTransformer([('encoder',OneHotEncoder(sparse=False),[0,1,2,4,5,6,10,11,12,13])],remainder='passthrough')"
   ]
  },
  {
   "cell_type": "code",
   "execution_count": 81,
   "metadata": {},
   "outputs": [
    {
     "data": {
      "text/plain": [
       "array([[  0.  ,   0.  ,   0.  , ..., 164.4 ,   8.95, 195.  ],\n",
       "       [  0.  ,   0.  ,   0.  , ..., 164.4 ,   8.95, 195.  ],\n",
       "       [  0.  ,   0.  ,   0.  , ..., 164.4 ,   8.95, 195.  ],\n",
       "       ...,\n",
       "       [  0.  ,   0.  ,   0.  , ..., 156.  ,   7.8 , 158.  ],\n",
       "       [  0.  ,   0.  ,   0.  , ..., 162.  ,   8.3 , 188.  ],\n",
       "       [  0.  ,   0.  ,   0.  , ..., 162.  ,   8.3 , 188.  ]])"
      ]
     },
     "execution_count": 81,
     "metadata": {},
     "output_type": "execute_result"
    }
   ],
   "source": [
    "x=trf1.fit_transform(x)\n"
   ]
  },
  {
   "cell_type": "code",
   "execution_count": 82,
   "metadata": {},
   "outputs": [],
   "source": [
    "scaler=StandardScaler()\n",
    "x=scaler.fit_transform(x)"
   ]
  },
  {
   "cell_type": "code",
   "execution_count": 95,
   "metadata": {},
   "outputs": [],
   "source": [
    "x_train,x_test,y_train,y_test=train_test_split(x,y,test_size=0.15,random_state=1)"
   ]
  },
  {
   "cell_type": "code",
   "execution_count": 96,
   "metadata": {},
   "outputs": [],
   "source": [
    "model=LinearRegression()\n",
    "model.fit(x_train,y_train)\n",
    "y_pred=model.predict(x_test)"
   ]
  },
  {
   "cell_type": "code",
   "execution_count": 97,
   "metadata": {},
   "outputs": [
    {
     "name": "stdout",
     "output_type": "stream",
     "text": [
      "Training score 0.9822027438459279\n",
      "Testing score -1.1996488627115932e+27\n"
     ]
    }
   ],
   "source": [
    "#training and testing score\n",
    "print('Training score', model.score(x_train,y_train))\n",
    "print('Testing score', model.score(x_test,y_test))\n"
   ]
  },
  {
   "cell_type": "code",
   "execution_count": 86,
   "metadata": {},
   "outputs": [
    {
     "name": "stdout",
     "output_type": "stream",
     "text": [
      "-1.1996488627115932e+27\n"
     ]
    }
   ],
   "source": [
    "print(r2_score(y_test,y_pred))"
   ]
  }
 ],
 "metadata": {
  "kernelspec": {
   "display_name": "Python 3.9.12 ('base')",
   "language": "python",
   "name": "python3"
  },
  "language_info": {
   "codemirror_mode": {
    "name": "ipython",
    "version": 3
   },
   "file_extension": ".py",
   "mimetype": "text/x-python",
   "name": "python",
   "nbconvert_exporter": "python",
   "pygments_lexer": "ipython3",
   "version": "3.9.12"
  },
  "orig_nbformat": 4,
  "vscode": {
   "interpreter": {
    "hash": "061c61d110313ac52e617aab777b9745cbb43feffd0c3c0b40f3e68fad6b6525"
   }
  }
 },
 "nbformat": 4,
 "nbformat_minor": 2
}
